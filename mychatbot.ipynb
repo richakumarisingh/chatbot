{
 "cells": [
  {
   "cell_type": "code",
   "execution_count": 1,
   "metadata": {},
   "outputs": [],
   "source": [
    "import os\n",
    "from chatterbot import ChatBot                           \n",
    "from chatterbot.trainers import ListTrainer\n",
    "cb=ChatBot('Bot')\n",
    "cb.set_trainer(ListTrainer)"
   ]
  },
  {
   "cell_type": "code",
   "execution_count": 2,
   "metadata": {},
   "outputs": [
    {
     "data": {
      "text/plain": [
       "['.ipynb_checkpoints',\n",
       " 'adv calci.ipynb',\n",
       " 'advcal.ui',\n",
       " 'arithematic.ui',\n",
       " 'azure',\n",
       " 'bms',\n",
       " 'cal.ui',\n",
       " 'calci.ipynb',\n",
       " 'champa.txt',\n",
       " 'chatbot.ipynb',\n",
       " 'chatterbot-corpus-master',\n",
       " 'data base.ipynb',\n",
       " 'data science.ipynb',\n",
       " 'data type.ipynb',\n",
       " 'day1.ipynb',\n",
       " 'day2.ipynb',\n",
       " 'day3.ipynb',\n",
       " 'day4 ooc.ipynb',\n",
       " 'day5.ipynb',\n",
       " 'day6.ipynb',\n",
       " 'db n gui.ipynb',\n",
       " 'db.sqlite3',\n",
       " 'db.ui',\n",
       " 'dbdemo.ui',\n",
       " 'demo.ui',\n",
       " 'ev.txt',\n",
       " 'exception handling.ipynb',\n",
       " 'exp.ipynb',\n",
       " 'exp.ui',\n",
       " 'fft.txt',\n",
       " 'file handling.ipynb',\n",
       " 'fir.txt',\n",
       " 'food.jpeg',\n",
       " 'for.txt',\n",
       " 'form.ui',\n",
       " 'full calci.ipynb',\n",
       " 'func.ipynb',\n",
       " 'Games',\n",
       " 'gui.ipynb',\n",
       " 'gui2.ipynb',\n",
       " 'hw1.ipynb',\n",
       " 'hw2.ipynb',\n",
       " 'hw3.ipynb',\n",
       " 'hw5.ipynb',\n",
       " 'img.ui',\n",
       " 'inheritance.ipynb',\n",
       " 'lastday.ipynb',\n",
       " 'mychat',\n",
       " 'mychatbot.ipynb',\n",
       " 'myres.ipynb',\n",
       " 'odd.txt',\n",
       " 'onlinedb.ipynb',\n",
       " 'restau.ui',\n",
       " 'restaurant.ipynb',\n",
       " 'sec',\n",
       " 'sec.txt',\n",
       " 'stu.ui',\n",
       " 'student mananagement.ipynb',\n",
       " 'stuman',\n",
       " 'tatti.ipynb',\n",
       " 'thr.txt',\n",
       " 'tym.ui',\n",
       " 'Untitled.ipynb',\n",
       " 'xammp.ipynb']"
      ]
     },
     "execution_count": 2,
     "metadata": {},
     "output_type": "execute_result"
    }
   ],
   "source": [
    "os.listdir() "
   ]
  },
  {
   "cell_type": "code",
   "execution_count": 3,
   "metadata": {},
   "outputs": [
    {
     "data": {
      "text/plain": [
       "['bengali',\n",
       " 'chinese',\n",
       " 'english',\n",
       " 'french',\n",
       " 'german',\n",
       " 'hebrew',\n",
       " 'hindi',\n",
       " 'indonesian',\n",
       " 'italian',\n",
       " 'japanese',\n",
       " 'korean',\n",
       " 'marathi',\n",
       " 'oriya',\n",
       " 'persian',\n",
       " 'portuguese',\n",
       " 'russian',\n",
       " 'spanish',\n",
       " 'swedish',\n",
       " 'telugu',\n",
       " 'thai',\n",
       " 'traditionalchinese']"
      ]
     },
     "execution_count": 3,
     "metadata": {},
     "output_type": "execute_result"
    }
   ],
   "source": [
    "os.listdir('mychat/')  "
   ]
  },
  {
   "cell_type": "code",
   "execution_count": 7,
   "metadata": {},
   "outputs": [
    {
     "name": "stdout",
     "output_type": "stream",
     "text": [
      "List Trainer: [####################] 100%\n",
      "List Trainer: [####################] 100%\n",
      "List Trainer: [####################] 100%\n",
      "List Trainer: [####################] 100%\n",
      "List Trainer: [####################] 100%\n",
      "List Trainer: [####################] 100%\n",
      "List Trainer: [####################] 100%\n",
      "List Trainer: [####################] 100%\n",
      "List Trainer: [####################] 100%\n",
      "List Trainer: [####################] 100%\n",
      "List Trainer: [####################] 100%\n",
      "List Trainer: [####################] 100%\n",
      "List Trainer: [####################] 100%\n",
      "List Trainer: [####################] 100%\n",
      "List Trainer: [####################] 100%\n",
      "List Trainer: [####################] 100%\n",
      "List Trainer: [####################] 100%\n",
      "List Trainer: [####################] 100%\n",
      "List Trainer: [####################] 100%\n"
     ]
    }
   ],
   "source": [
    "for i in os.listdir('mychat/english'):   \n",
    "    f1=open('mychat/english/movies.yml','r').readlines()\n",
    "    cb.train(f1)"
   ]
  },
  {
   "cell_type": "code",
   "execution_count": 6,
   "metadata": {},
   "outputs": [
    {
     "name": "stdout",
     "output_type": "stream",
     "text": [
      "chat with the computer : hi\n",
      "- How are you doing?\n",
      "chat with the computer : how are you\n",
      "klklkk\n",
      "chat with the computer : Hi, How is it going?\n",
      "- Good\n",
      "chat with the computer : bye\n"
     ]
    }
   ],
   "source": [
    "while True:\n",
    "    ip=input('chat with the computer : ')\n",
    "    if ip.lower()=='bye':\n",
    "        break\n",
    "    if ip.lower()!='bye':\n",
    "        reply=cb.get_response(ip)\n",
    "        print(reply)"
   ]
  },
  {
   "cell_type": "code",
   "execution_count": null,
   "metadata": {},
   "outputs": [],
   "source": []
  }
 ],
 "metadata": {
  "kernelspec": {
   "display_name": "Python 3",
   "language": "python",
   "name": "python3"
  },
  "language_info": {
   "codemirror_mode": {
    "name": "ipython",
    "version": 3
   },
   "file_extension": ".py",
   "mimetype": "text/x-python",
   "name": "python",
   "nbconvert_exporter": "python",
   "pygments_lexer": "ipython3",
   "version": "3.6.8"
  }
 },
 "nbformat": 4,
 "nbformat_minor": 2
}
